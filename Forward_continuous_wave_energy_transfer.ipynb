{
  "cells": [
    {
      "cell_type": "code",
      "execution_count": 1,
      "metadata": {
        "id": "t0UBeR0898cF"
      },
      "outputs": [],
      "source": [
        "import numpy as onp\n",
        "import matplotlib.pyplot as plt"
      ]
    },
    {
      "cell_type": "code",
      "execution_count": 2,
      "metadata": {
        "id": "V8I6lydsI1hH"
      },
      "outputs": [],
      "source": [
        "import jax.numpy as jnp\n",
        "from jax import grad, jit, vmap, vjp, jacfwd\n",
        "from jax import random\n",
        "from jax.example_libraries import optimizers\n",
        "from jax.nn import relu, elu\n",
        "from jax import lax\n",
        "from torch.utils import data\n",
        "from functools import partial\n",
        "import itertools\n",
        "from tqdm import trange, tqdm\n",
        "import pickle\n",
        "import time"
      ]
    },
    {
      "cell_type": "code",
      "execution_count": 4,
      "metadata": {
        "colab": {
          "base_uri": "https://localhost:8080/"
        },
        "id": "Z_Zoeqo4NE9v",
        "outputId": "e5e8b1b3-4a28-4ecc-c201-e64c02961ea6"
      },
      "outputs": [
        {
          "output_type": "stream",
          "name": "stdout",
          "text": [
            "Mounted at /content/drive\n"
          ]
        }
      ],
      "source": [
        "# from google.colab import drive\n",
        "# drive.mount('/content/drive')\n",
        "\n",
        "# import os\n",
        "# os.chdir('/content/drive/My Drive/Colab Notebooks/SRS-Net/Data')"
      ]
    },
    {
      "cell_type": "code",
      "execution_count": 3,
      "metadata": {
        "id": "iAQKR746-0nZ"
      },
      "outputs": [],
      "source": [
        "# Network structure\n",
        "def modified_MLP(layers, activation=relu):\n",
        "  def xavier_init(key, d_in, d_out):\n",
        "      glorot_stddev = 1. / jnp.sqrt((d_in + d_out) / 2.)\n",
        "      W = glorot_stddev * random.normal(key, (d_in, d_out))\n",
        "      b = jnp.zeros(d_out)\n",
        "      return W, b\n",
        "\n",
        "  def init(rng_key):\n",
        "      U1, b1 =  xavier_init(random.PRNGKey(12345), layers[0], layers[1])\n",
        "      U2, b2 =  xavier_init(random.PRNGKey(54321), layers[0], layers[1])\n",
        "      def init_layer(key, d_in, d_out):\n",
        "          k1, k2 = random.split(key)\n",
        "          W, b = xavier_init(k1, d_in, d_out)\n",
        "          return W, b\n",
        "      key, *keys = random.split(rng_key, len(layers))\n",
        "      params = list(map(init_layer, keys, layers[:-1], layers[1:]))\n",
        "      return (params, U1, b1, U2, b2)\n",
        "\n",
        "  def apply(params, inputs):\n",
        "      params, U1, b1, U2, b2 = params\n",
        "      U = activation(jnp.dot(inputs, U1) + b1)\n",
        "      V = activation(jnp.dot(inputs, U2) + b2)\n",
        "      for W, b in params[:-1]:\n",
        "          outputs = activation(jnp.dot(inputs, W) + b)\n",
        "          inputs = jnp.multiply(outputs, U) + jnp.multiply(1 - outputs, V)  # whats this?\n",
        "      W, b = params[-1]\n",
        "      outputs = jnp.dot(inputs, W) + b\n",
        "      return outputs\n",
        "  return init, apply"
      ]
    },
    {
      "cell_type": "markdown",
      "metadata": {
        "id": "vWApM5rP7AKC"
      },
      "source": [
        "$$ \\frac {dI_ {s}}{d{z}} =  g_ {R}  I_ {p} I_ {S} - \\alpha _ {s}  I_ {s} $$\n",
        "\n",
        "$$ \\frac {dI_ {p}}{d{z}}  = - \\frac {\\omega_{p}}{\\omega_{s}} g_ {R} I_ {p} I_ {s} - \\alpha _ {p} I_ {p} $$"
      ]
    },
    {
      "cell_type": "code",
      "execution_count": 4,
      "metadata": {
        "id": "YBF5owwvtcBJ"
      },
      "outputs": [],
      "source": [
        "# Data generator for labeled data - with paired inputs and outputs\n",
        "class DataGenerator(data.Dataset):\n",
        "    def __init__(self, z, p_s, p_p, batch_size=64,\n",
        "                 rng_key=random.PRNGKey(1234)):\n",
        "        'Initialization'\n",
        "        self.z = z\n",
        "        self.p_s = p_s\n",
        "        self.p_p = p_p\n",
        "\n",
        "        self.N = z.shape[0]\n",
        "        self.batch_size = batch_size\n",
        "        self.key = rng_key\n",
        "\n",
        "    def __getitem__(self, index):\n",
        "        'Generate one batch of data'\n",
        "        self.key, subkey = random.split(self.key)\n",
        "        inputs, outputs = self.__data_generation(subkey)\n",
        "        return inputs, outputs\n",
        "\n",
        "    @partial(jit, static_argnums=(0,))\n",
        "    def __data_generation(self, key):\n",
        "        'Generates data containing batch_size samples'\n",
        "        idx = random.choice(key, self.N, (self.batch_size,), replace=False)\n",
        "        p_s = self.p_s[idx,:]\n",
        "        p_p = self.p_p[idx,:]\n",
        "        z = self.z[idx,:]\n",
        "        # Construct batch\n",
        "        inputs = z\n",
        "        outputs = p_s, p_p\n",
        "        return inputs, outputs"
      ]
    },
    {
      "cell_type": "code",
      "execution_count": 5,
      "metadata": {
        "id": "ncsjdFKD8qM3"
      },
      "outputs": [],
      "source": [
        "# Define the model\n",
        "class PI_SRS:\n",
        "    def __init__(self, layer_sizes, params=None, lr=1e-3, w_in=1):\n",
        "      self.nn_init, self.nn_apply = modified_MLP(layer_sizes, activation=jnp.tanh)\n",
        "      self.w_in = w_in\n",
        "\n",
        "      if params == None:\n",
        "        params = self.nn_init(rng_key = random.PRNGKey(1234))\n",
        "      else:\n",
        "        params = params\n",
        "\n",
        "      # Use optimizers to set optimizer initialization and update functions\n",
        "      self.opt_init, \\\n",
        "      self.opt_update, \\\n",
        "      self.get_params = optimizers.adam(optimizers.exponential_decay(lr,\n",
        "                                                                    decay_steps=2000,\n",
        "                                                                    decay_rate=0.9))\n",
        "      self.opt_state = self.opt_init(params)\n",
        "\n",
        "      # Loggers\n",
        "      self.itercount = itertools.count()\n",
        "      self.loss_log = []\n",
        "      self.loss_ics_log = []\n",
        "      self.loss_res_log = []\n",
        "\n",
        "    def predict(self, params, z):\n",
        "\n",
        "      spec = self.nn_apply(params, z)\n",
        "\n",
        "      return spec[0], spec[1]\n",
        "\n",
        "    # SRS physical law loss\n",
        "    def res_net(self, params, z):\n",
        "      Ps, Pp = self.predict(params, z)\n",
        "      dPs_z, dPp_z = jacfwd(self.predict, argnums=1)(params, z)\n",
        "\n",
        "      res_ps = dPs_z - dist * gR * Ps * Pp + dist * alpha_s * Ps\n",
        "      res_pp = dPp_z + dist * omega_p / omega_s *gR * Ps * Pp + dist * alpha_p * Pp\n",
        "\n",
        "      return res_ps, res_pp\n",
        "\n",
        "    def loss_signal(self, params, batch):\n",
        "      z0, outputs = batch\n",
        "      ps, pp = outputs\n",
        "      Ps, Pp = vmap(self.predict, (None, 0))(params, z0)\n",
        "      loss_ps = jnp.mean((Ps - ps) ** 2)\n",
        "      loss_pp = jnp.mean((Pp - pp) ** 2)\n",
        "\n",
        "      return loss_ps + loss_pp\n",
        "\n",
        "    def loss_res(self, params, batch):\n",
        "      z0, _ = batch\n",
        "      res_ps, res_pp = vmap(self.res_net, (None, 0))(params, z0)\n",
        "      loss_resps = jnp.mean(res_ps ** 2)\n",
        "      loss_respp = jnp.mean(res_pp ** 2)\n",
        "\n",
        "      return loss_resps + loss_respp\n",
        "\n",
        "    def loss(self, params, ics_batch, res_batch):\n",
        "      loss_signal = self.loss_signal(params, ics_batch)\n",
        "      loss_res = self.loss_res(params, res_batch)\n",
        "\n",
        "      loss = self.w_in * loss_signal + loss_res\n",
        "      return loss\n",
        "\n",
        "    # Define a compiled update step\n",
        "    @partial(jit, static_argnums=(0,))\n",
        "    def step(self, i, opt_state, ics_batch, res_batch):\n",
        "      params = self.get_params(opt_state)\n",
        "      g = grad(self.loss)(params, ics_batch, res_batch)\n",
        "      return self.opt_update(i, g, opt_state)\n",
        "\n",
        "    # Optimize parameters in a loop\n",
        "    def train(self, ics_dataset, res_dataset, nIter = 10000):\n",
        "\n",
        "      ics_data = iter(ics_dataset)\n",
        "      res_data = iter(res_dataset)\n",
        "\n",
        "      pbar = trange(nIter)\n",
        "      # Main training loop\n",
        "      for i in pbar:\n",
        "        ics_batch= next(ics_data)\n",
        "        res_batch = next(res_data)\n",
        "\n",
        "        self.opt_state = self.step(next(self.itercount), self.opt_state, ics_batch, res_batch)\n",
        "\n",
        "        if i % 100 == 0:\n",
        "\n",
        "          params = self.get_params(self.opt_state)\n",
        "\n",
        "          # Compute losses\n",
        "          loss_value = self.loss(params, ics_batch, res_batch)\n",
        "          loss_ics_value = self.loss_signal(params, ics_batch)\n",
        "          loss_res_value = self.loss_res(params, res_batch)\n",
        "\n",
        "          # Store losses\n",
        "          self.loss_log.append(loss_value)\n",
        "          self.loss_ics_log.append(loss_ics_value)\n",
        "          self.loss_res_log.append(loss_res_value)\n",
        "\n",
        "          # Print losses\n",
        "          pbar.set_postfix({'Loss': loss_value, 'loss_ics' : loss_ics_value, 'loss_physics': loss_res_value})"
      ]
    },
    {
      "cell_type": "code",
      "execution_count": 6,
      "metadata": {
        "id": "dNk-RWmIuB1O"
      },
      "outputs": [],
      "source": [
        "# Geneate labeled ics training data\n",
        "def generate_ics_training_data(pz, Psin, Ppin):\n",
        "    z0 = jnp.zeros((pz, 1))\n",
        "    ps = jnp.tile(Psin, (pz, 1))\n",
        "    pp = jnp.tile(Ppin, (pz, 1))\n",
        "\n",
        "    return z0, ps, pp\n",
        "\n",
        "# Geneate unlabeled pde res evaluations\n",
        "def generate_pde_res_training_data(key, pres):\n",
        "    keys = random.split(key, 2)\n",
        "    zp = random.uniform(keys[0], (pres, 1))\n",
        "    p0 = jnp.zeros((pres, 1))\n",
        "\n",
        "    return zp, p0, p0"
      ]
    },
    {
      "cell_type": "code",
      "execution_count": 7,
      "metadata": {
        "id": "kY404iUTI6YN"
      },
      "outputs": [],
      "source": [
        "# transmission distance (km)\n",
        "dist = 40\n",
        "# fiber effective area\n",
        "Aeff = 10e-13\n",
        "# Raman gain coefficient\n",
        "gR = 1e-13 / Aeff\n",
        "alpha_s = 0.2\n",
        "alpha_p = 0.2\n",
        "# signal frequency\n",
        "omega_s = 193.0\n",
        "# pump frequency\n",
        "omega_p = 203.0"
      ]
    },
    {
      "cell_type": "code",
      "execution_count": 8,
      "metadata": {
        "id": "Y1Mf5vzhv8hm"
      },
      "outputs": [],
      "source": [
        "# input signal power\n",
        "Psin = jnp.array([2.0])\n",
        "# input pump power\n",
        "Ppin = jnp.array([20.0])\n",
        "key = random.PRNGKey(0)\n",
        "pz = 500\n",
        "pres = 2000\n",
        "\n",
        "z_train, ps_train, pp_train =  generate_ics_training_data(pz, Psin, Ppin)\n",
        "z_res, ps_res, pp_res =  generate_pde_res_training_data(key, pres)"
      ]
    },
    {
      "cell_type": "code",
      "execution_count": 9,
      "metadata": {
        "id": "VWHmUdgSv9OE"
      },
      "outputs": [],
      "source": [
        "ics_dataset = DataGenerator(z_train, ps_train, pp_train, 100)\n",
        "res_dataset = DataGenerator(z_res, ps_res, pp_res, 2000)"
      ]
    },
    {
      "cell_type": "code",
      "execution_count": null,
      "metadata": {
        "id": "8rrOlrp41JUf"
      },
      "outputs": [],
      "source": [
        "#  Restore the trained model from saved file\n",
        "with open('PINN_CW_SRS_1mw_50mw_50km.pkl', 'rb') as f:\n",
        "     params = pickle.load(f)"
      ]
    },
    {
      "cell_type": "code",
      "execution_count": 10,
      "metadata": {
        "id": "LanZhTsP5w2r"
      },
      "outputs": [],
      "source": [
        "layer_sizes = [1, 200, 200, 200, 200, 2]\n",
        "\n",
        "model = PI_SRS(layer_sizes, params=None, lr=1e-4, w_in=4)"
      ]
    },
    {
      "cell_type": "code",
      "execution_count": 11,
      "metadata": {
        "colab": {
          "base_uri": "https://localhost:8080/"
        },
        "id": "fPZ47MaQOBNq",
        "outputId": "467a0ed3-2ca4-4456-aab2-d2bf8b256af2"
      },
      "outputs": [
        {
          "output_type": "stream",
          "name": "stderr",
          "text": [
            "100%|██████████| 80000/80000 [08:41<00:00, 153.45it/s, Loss=1.86822e-05, loss_ics=9.9831254e-11, loss_physics=1.86818e-05]\n"
          ]
        }
      ],
      "source": [
        "# Train\n",
        "model.train(ics_dataset, res_dataset, nIter=80000)"
      ]
    },
    {
      "cell_type": "code",
      "execution_count": 12,
      "metadata": {
        "id": "-Oe2_1d-H_W1"
      },
      "outputs": [],
      "source": [
        "params = model.get_params(model.opt_state)"
      ]
    },
    {
      "cell_type": "code",
      "execution_count": null,
      "metadata": {
        "id": "osfh9YkzyhWy"
      },
      "outputs": [],
      "source": [
        "# save the trained model\n",
        "with open('PINN_CW_SRS_1mw_5mw_50km.pkl', 'wb') as f:\n",
        "    pickle.dump(params, f)"
      ]
    },
    {
      "cell_type": "code",
      "execution_count": 13,
      "metadata": {
        "colab": {
          "base_uri": "https://localhost:8080/",
          "height": 406
        },
        "id": "Tbi8WxhtnP5n",
        "outputId": "c23c147f-8376-4604-ca2a-52f98020892a"
      },
      "outputs": [
        {
          "output_type": "display_data",
          "data": {
            "text/plain": [
              "<Figure size 600x400 with 1 Axes>"
            ],
            "image/png": "[encoded data removed]"
          },
          "metadata": {}
        }
      ],
      "source": [
        "# Plot for loss function\n",
        "plt.figure(figsize = (6,4))\n",
        "plt.plot(model.loss_ics_log, lw=2, label='Loss of initial conditions')\n",
        "plt.plot(model.loss_res_log, lw=2, label='Loss of SRS PDE')\n",
        "\n",
        "plt.xlabel('Iteration')\n",
        "plt.ylabel('Loss')\n",
        "plt.yscale('log')\n",
        "plt.legend()\n",
        "plt.tight_layout()\n",
        "plt.show()"
      ]
    },
    {
      "cell_type": "code",
      "execution_count": 14,
      "metadata": {
        "id": "RqXgQPtTWW0O"
      },
      "outputs": [],
      "source": [
        "# Predict\n",
        "ind = 1000\n",
        "dist_batch = jnp.linspace(0, 1, ind)\n",
        "Ps = vmap(model.predict, (None, 0))(params, dist_batch.reshape(ind, 1))"
      ]
    },
    {
      "cell_type": "code",
      "execution_count": 15,
      "metadata": {
        "colab": {
          "base_uri": "https://localhost:8080/",
          "height": 407
        },
        "id": "iESUiGHXW44Y",
        "outputId": "ce235ab9-e428-4742-8654-95a6bc2ab2d9"
      },
      "outputs": [
        {
          "output_type": "display_data",
          "data": {
            "text/plain": [
              "<Figure size 600x400 with 1 Axes>"
            ],
            "image/png": "[encoded data removed]"
          },
          "metadata": {}
        }
      ],
      "source": [
        "dist = 100\n",
        "plt.figure(figsize = (6, 4))\n",
        "plt.plot(dist_batch, Ps[0], '.', label='Signal power')\n",
        "plt.plot(dist_batch, Ps[1], '.', label='Pump power')\n",
        "plt.xlabel('Transmission')\n",
        "plt.ylabel('Power (mW)')\n",
        "plt.legend()\n",
        "plt.tight_layout()\n",
        "plt.show()"
      ]
    },
    {
      "cell_type": "code",
      "source": [],
      "metadata": {
        "id": "E-bW8V82-SSv"
      },
      "execution_count": null,
      "outputs": []
    }
  ],
  "metadata": {
    "accelerator": "GPU",
    "colab": {
      "provenance": []
    },
    "gpuClass": "standard",
    "kernelspec": {
      "display_name": "Python 3",
      "language": "python",
      "name": "python3"
    },
    "language_info": {
      "codemirror_mode": {
        "name": "ipython",
        "version": 3
      },
      "file_extension": ".py",
      "mimetype": "text/x-python",
      "name": "python",
      "nbconvert_exporter": "python",
      "pygments_lexer": "ipython3",
      "version": "3.7.4"
    }
  },
  "nbformat": 4,
  "nbformat_minor": 0
}